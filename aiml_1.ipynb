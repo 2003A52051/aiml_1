{
  "nbformat": 4,
  "nbformat_minor": 0,
  "metadata": {
    "colab": {
      "name": "aiml_1.ipynb",
      "provenance": [],
      "toc_visible": true
    },
    "kernelspec": {
      "name": "python3",
      "display_name": "Python 3"
    },
    "language_info": {
      "name": "python"
    }
  },
  "cells": [
    {
      "cell_type": "code",
      "source": [
        "import pandas as pd\n",
        "d=pd.read_csv('/content/forestfires (1).csv')\n",
        "print(d)"
      ],
      "metadata": {
        "colab": {
          "base_uri": "https://localhost:8080/"
        },
        "id": "t56ttZrPXg7b",
        "outputId": "de81475d-df6b-4b59-962b-81ae80aab9f3"
      },
      "execution_count": 6,
      "outputs": [
        {
          "output_type": "stream",
          "name": "stdout",
          "text": [
            "     X  Y month  day  FFMC    DMC     DC   ISI  temp  RH  wind  rain   area\n",
            "0    7  5   mar  fri  86.2   26.2   94.3   5.1   8.2  51   6.7   0.0   0.00\n",
            "1    7  4   oct  tue  90.6   35.4  669.1   6.7  18.0  33   0.9   0.0   0.00\n",
            "2    7  4   oct  sat  90.6   43.7  686.9   6.7  14.6  33   1.3   0.0   0.00\n",
            "3    8  6   mar  fri  91.7   33.3   77.5   9.0   8.3  97   4.0   0.2   0.00\n",
            "4    8  6   mar  sun  89.3   51.3  102.2   9.6  11.4  99   1.8   0.0   0.00\n",
            "..  .. ..   ...  ...   ...    ...    ...   ...   ...  ..   ...   ...    ...\n",
            "512  4  3   aug  sun  81.6   56.7  665.6   1.9  27.8  32   2.7   0.0   6.44\n",
            "513  2  4   aug  sun  81.6   56.7  665.6   1.9  21.9  71   5.8   0.0  54.29\n",
            "514  7  4   aug  sun  81.6   56.7  665.6   1.9  21.2  70   6.7   0.0  11.16\n",
            "515  1  4   aug  sat  94.4  146.0  614.7  11.3  25.6  42   4.0   0.0   0.00\n",
            "516  6  3   nov  tue  79.5    3.0  106.7   1.1  11.8  31   4.5   0.0   0.00\n",
            "\n",
            "[517 rows x 13 columns]\n"
          ]
        }
      ]
    },
    {
      "cell_type": "code",
      "source": [
        "x1=d['X']\n",
        "x2=d['Y']\n",
        "x3=d['FFMC']\n",
        "x4=d['DMC']\n",
        "x5=d['DC']\n",
        "x6=d['ISI']\n",
        "x7=d['temp']\n",
        "x8=d['RH']\n",
        "x9=d['wind']\n",
        "x10=d['rain']\n",
        "y=d['area']\n",
        "print(x1,x2,x3,x4,x5,x6,x7,x8,x9,x10,y)"
      ],
      "metadata": {
        "colab": {
          "base_uri": "https://localhost:8080/"
        },
        "id": "6VKGWfg0YLJK",
        "outputId": "2179de9f-ebc0-459f-c451-3b8abb573805"
      },
      "execution_count": 7,
      "outputs": [
        {
          "output_type": "stream",
          "name": "stdout",
          "text": [
            "0      7\n",
            "1      7\n",
            "2      7\n",
            "3      8\n",
            "4      8\n",
            "      ..\n",
            "512    4\n",
            "513    2\n",
            "514    7\n",
            "515    1\n",
            "516    6\n",
            "Name: X, Length: 517, dtype: int64 0      5\n",
            "1      4\n",
            "2      4\n",
            "3      6\n",
            "4      6\n",
            "      ..\n",
            "512    3\n",
            "513    4\n",
            "514    4\n",
            "515    4\n",
            "516    3\n",
            "Name: Y, Length: 517, dtype: int64 0      86.2\n",
            "1      90.6\n",
            "2      90.6\n",
            "3      91.7\n",
            "4      89.3\n",
            "       ... \n",
            "512    81.6\n",
            "513    81.6\n",
            "514    81.6\n",
            "515    94.4\n",
            "516    79.5\n",
            "Name: FFMC, Length: 517, dtype: float64 0       26.2\n",
            "1       35.4\n",
            "2       43.7\n",
            "3       33.3\n",
            "4       51.3\n",
            "       ...  \n",
            "512     56.7\n",
            "513     56.7\n",
            "514     56.7\n",
            "515    146.0\n",
            "516      3.0\n",
            "Name: DMC, Length: 517, dtype: float64 0       94.3\n",
            "1      669.1\n",
            "2      686.9\n",
            "3       77.5\n",
            "4      102.2\n",
            "       ...  \n",
            "512    665.6\n",
            "513    665.6\n",
            "514    665.6\n",
            "515    614.7\n",
            "516    106.7\n",
            "Name: DC, Length: 517, dtype: float64 0       5.1\n",
            "1       6.7\n",
            "2       6.7\n",
            "3       9.0\n",
            "4       9.6\n",
            "       ... \n",
            "512     1.9\n",
            "513     1.9\n",
            "514     1.9\n",
            "515    11.3\n",
            "516     1.1\n",
            "Name: ISI, Length: 517, dtype: float64 0       8.2\n",
            "1      18.0\n",
            "2      14.6\n",
            "3       8.3\n",
            "4      11.4\n",
            "       ... \n",
            "512    27.8\n",
            "513    21.9\n",
            "514    21.2\n",
            "515    25.6\n",
            "516    11.8\n",
            "Name: temp, Length: 517, dtype: float64 0      51\n",
            "1      33\n",
            "2      33\n",
            "3      97\n",
            "4      99\n",
            "       ..\n",
            "512    32\n",
            "513    71\n",
            "514    70\n",
            "515    42\n",
            "516    31\n",
            "Name: RH, Length: 517, dtype: int64 0      6.7\n",
            "1      0.9\n",
            "2      1.3\n",
            "3      4.0\n",
            "4      1.8\n",
            "      ... \n",
            "512    2.7\n",
            "513    5.8\n",
            "514    6.7\n",
            "515    4.0\n",
            "516    4.5\n",
            "Name: wind, Length: 517, dtype: float64 0      0.0\n",
            "1      0.0\n",
            "2      0.0\n",
            "3      0.2\n",
            "4      0.0\n",
            "      ... \n",
            "512    0.0\n",
            "513    0.0\n",
            "514    0.0\n",
            "515    0.0\n",
            "516    0.0\n",
            "Name: rain, Length: 517, dtype: float64 0       0.00\n",
            "1       0.00\n",
            "2       0.00\n",
            "3       0.00\n",
            "4       0.00\n",
            "       ...  \n",
            "512     6.44\n",
            "513    54.29\n",
            "514    11.16\n",
            "515     0.00\n",
            "516     0.00\n",
            "Name: area, Length: 517, dtype: float64\n"
          ]
        }
      ]
    },
    {
      "cell_type": "code",
      "source": [
        "import random\n",
        "x1_train=[]\n",
        "x2_train=[]\n",
        "x3_train=[]\n",
        "x4_train=[]\n",
        "x5_train=[]\n",
        "x6_train=[]\n",
        "x7_train=[]\n",
        "x8_train=[]\n",
        "x9_train=[]\n",
        "x10_train=[]\n",
        "y_train=[]\n",
        "\n",
        "for j in range(0,1):\n",
        "  for i in range(0,517,2):\n",
        "    x1_train.append(x1[i])\n",
        "    x2_train.append(x2[i])\n",
        "    x3_train.append(x3[i])\n",
        "    x4_train.append(x4[i])\n",
        "    x5_train.append(x5[i])\n",
        "    x6_train.append(x6[i])\n",
        "    x7_train.append(x7[i])\n",
        "    x8_train.append(x8[i])\n",
        "    x9_train.append(x9[i])\n",
        "    x10_train.append(x10[i])\n",
        "    y_train.append(y[i])"
      ],
      "metadata": {
        "id": "3_DgZsXTYNby"
      },
      "execution_count": 8,
      "outputs": []
    },
    {
      "cell_type": "code",
      "source": [
        "x1_test=[]\n",
        "x2_test=[]\n",
        "x3_test=[]\n",
        "x4_test=[]\n",
        "x5_test=[]\n",
        "x6_test=[]\n",
        "x7_test=[]\n",
        "x8_test=[]\n",
        "x9_test=[]\n",
        "x10_test=[]\n",
        "y_test=[]\n",
        "for i in range(251,517):\n",
        "  for i in range(0,517,2):\n",
        "    x1_test.append(x1[i])\n",
        "    x2_test.append(x2[i])\n",
        "    x3_test.append(x3[i])\n",
        "    x4_test.append(x4[i])\n",
        "    x5_test.append(x5[i])\n",
        "    x6_test.append(x6[i])\n",
        "    x7_test.append(x7[i])\n",
        "    x8_test.append(x8[i])\n",
        "    x9_test.append(x9[i])\n",
        "    x10_test.append(x10[i])\n",
        "    y_test.append(y[i])"
      ],
      "metadata": {
        "id": "sGgpx6miYksA"
      },
      "execution_count": 9,
      "outputs": []
    },
    {
      "cell_type": "code",
      "source": [
        "import numpy as np\n",
        "\n",
        "e=[]\n",
        "ee=[]\n",
        "def linear(m1,m2,m3,m4,m5,m6,m7,m8,m9,m10,c):\n",
        "  sum=0\n",
        "  yp=[]\n",
        "  for i in range(0,len(x10_train)):\n",
        "    yp.append(m1*x1_train[i]+m2*x2_train[i]+m3*x3_train[i]+m4*x4_train[i]+m5*x5_train[i]+m6*x6_train[i]+m7*x7_train[i]+m8*x8_train[i]+m9*x9_train[i]+m9*x9_train[i]+m10*x10_train[i]+c)\n",
        "    g=(y_train[i]-yp[i])**2\n",
        "    sum=sum+g\n",
        "  e.append(sum)\n",
        "  ee.append(np.mod(sum,len(x1_train)))\n",
        "  print(m1,m2,m3,m4,m5,m6,m7,m8,c,np.mod(sum,len(x10_train)))\n",
        "  sum=0\n",
        "\n",
        "for i in range(1,100):\n",
        "  linear(1+i,2+i,3+i,4+i,5+i,6+i,7+i,8+i,9+i,10+i,11+i)"
      ],
      "metadata": {
        "colab": {
          "base_uri": "https://localhost:8080/"
        },
        "id": "VaVWveikY0Sl",
        "outputId": "708cf13e-4f39-4fa9-d698-6e8fc0fb9587"
      },
      "execution_count": 10,
      "outputs": [
        {
          "output_type": "stream",
          "name": "stdout",
          "text": [
            "2 3 4 5 6 7 8 9 12 182.79569911956787\n",
            "3 4 5 6 7 8 9 10 13 238.33970260620117\n",
            "4 5 6 7 8 9 10 11 14 54.40369987487793\n",
            "5 6 7 8 9 10 11 12 15 148.98769760131836\n",
            "6 7 8 9 10 11 12 13 16 4.091697692871094\n",
            "7 8 9 10 11 12 13 14 17 137.71569442749023\n",
            "8 9 10 11 12 13 14 15 18 31.859710693359375\n",
            "9 10 11 12 13 14 15 16 19 204.5237045288086\n",
            "10 11 12 13 14 15 16 17 20 137.70769500732422\n",
            "11 12 13 14 15 16 17 18 21 90.41165161132812\n",
            "12 13 14 15 16 17 18 19 22 62.63569641113281\n",
            "13 14 15 16 17 18 19 20 23 54.379737854003906\n",
            "14 15 16 17 18 19 20 21 24 65.64371490478516\n",
            "15 16 17 18 19 20 21 22 25 96.42771911621094\n",
            "16 17 18 19 20 21 22 23 26 146.73162841796875\n",
            "17 18 19 20 21 22 23 24 27 216.55569458007812\n",
            "18 19 20 21 22 23 24 25 28 46.899658203125\n",
            "19 20 21 22 23 24 25 26 29 155.76373291015625\n",
            "20 21 22 23 24 25 26 27 30 25.147705078125\n",
            "21 22 23 24 25 26 27 28 31 173.05165100097656\n",
            "22 23 24 25 26 27 28 29 32 81.47561645507812\n",
            "23 24 25 26 27 28 29 30 33 9.419677734375\n",
            "24 25 26 27 28 29 30 31 34 215.88369750976562\n",
            "25 26 27 28 29 30 31 32 35 182.86767578125\n",
            "26 27 28 29 30 31 32 33 36 169.3717041015625\n",
            "27 28 29 30 31 32 33 34 37 175.39569091796875\n",
            "28 29 30 31 32 33 34 35 38 200.93975830078125\n",
            "29 30 31 32 33 34 35 36 39 246.00390625\n",
            "30 31 32 33 34 35 36 37 40 51.58758544921875\n",
            "31 32 33 34 35 36 37 38 41 135.69174194335938\n",
            "32 33 34 35 36 37 38 39 42 239.315673828125\n",
            "33 34 35 36 37 38 39 40 43 103.45989990234375\n",
            "34 35 36 37 38 39 40 41 44 246.12353515625\n",
            "35 36 37 38 39 40 41 42 45 149.3077392578125\n",
            "36 37 38 39 40 41 42 43 46 72.01190185546875\n",
            "37 38 39 40 41 42 43 44 47 14.23565673828125\n",
            "38 39 40 41 42 43 44 45 48 234.9796142578125\n",
            "39 40 41 42 43 44 45 46 49 216.24407958984375\n",
            "40 41 42 43 44 45 46 47 50 217.02777099609375\n",
            "41 42 43 44 45 46 47 48 51 237.33160400390625\n",
            "42 43 44 45 46 47 48 49 52 18.15576171875\n",
            "43 44 45 46 47 48 49 50 53 77.4996337890625\n",
            "44 45 46 47 48 49 50 51 54 156.36376953125\n",
            "45 46 47 48 49 50 51 52 55 254.748046875\n",
            "46 47 48 49 50 51 52 53 56 113.65179443359375\n",
            "47 48 49 50 51 52 53 54 57 251.0755615234375\n",
            "48 49 50 51 52 53 54 55 58 149.0196533203125\n",
            "49 50 51 52 53 54 55 56 59 66.4840087890625\n",
            "50 51 52 53 54 55 56 57 60 3.4676513671875\n",
            "51 52 53 54 55 56 57 58 61 218.9716796875\n",
            "52 53 54 55 56 57 58 59 62 194.9959716796875\n",
            "53 54 55 56 57 58 59 60 63 190.5396728515625\n",
            "54 55 56 57 58 59 60 61 64 205.603759765625\n",
            "55 56 57 58 59 60 61 62 65 240.1878662109375\n",
            "56 57 58 59 60 61 62 63 66 35.292236328125\n",
            "57 58 59 60 61 62 63 64 67 108.91552734375\n",
            "58 59 60 61 62 63 64 65 68 202.060302734375\n",
            "59 60 61 62 63 64 65 66 69 55.7237548828125\n",
            "60 61 62 63 64 65 66 67 70 187.9080810546875\n",
            "61 62 63 64 65 66 67 68 71 80.6114501953125\n",
            "62 63 64 65 66 67 68 69 72 251.8359375\n",
            "63 64 65 66 67 68 69 70 73 183.579833984375\n",
            "64 65 66 67 68 69 70 71 74 134.8436279296875\n",
            "65 66 67 68 69 70 71 72 75 105.6278076171875\n",
            "66 67 68 69 70 71 72 73 76 95.93115234375\n",
            "67 68 69 70 71 72 73 74 77 105.7552490234375\n",
            "68 69 70 71 72 73 74 75 78 135.0994873046875\n",
            "69 70 71 72 73 74 75 76 79 183.9638671875\n",
            "70 71 72 73 74 75 76 77 80 252.347412109375\n",
            "71 72 73 74 75 76 77 78 81 81.252197265625\n",
            "72 73 74 75 76 77 78 79 82 188.67578125\n",
            "73 74 75 76 77 78 79 80 83 56.61962890625\n",
            "74 75 76 77 78 79 80 81 84 203.084228515625\n",
            "75 76 77 78 79 80 81 82 85 110.067626953125\n",
            "76 77 78 79 80 81 82 83 86 36.572265625\n",
            "77 78 79 80 81 82 83 84 87 241.5947265625\n",
            "78 79 80 81 82 83 84 85 88 207.1396484375\n",
            "79 80 81 82 83 84 85 86 89 192.203125\n",
            "80 81 82 83 84 85 86 87 90 196.787109375\n",
            "81 82 83 84 85 86 87 88 91 220.8916015625\n",
            "82 83 84 85 86 87 88 89 92 5.515869140625\n",
            "83 84 85 86 87 88 89 90 93 68.65966796875\n",
            "84 85 86 87 88 89 90 91 94 151.32275390625\n",
            "85 86 87 88 89 90 91 92 95 253.50732421875\n",
            "86 87 88 89 90 91 92 93 96 116.212158203125\n",
            "87 88 89 90 91 92 93 94 97 257.434814453125\n",
            "88 89 90 91 92 93 94 95 98 159.1787109375\n",
            "89 90 91 92 93 94 95 96 99 80.444580078125\n",
            "90 91 92 93 94 95 96 97 100 21.226806640625\n",
            "91 92 93 94 95 96 97 98 101 240.532958984375\n",
            "92 93 94 95 96 97 98 99 102 220.355712890625\n",
            "93 94 95 96 97 98 99 100 103 219.698974609375\n",
            "94 95 96 97 98 99 100 101 104 238.56298828125\n",
            "95 96 97 98 99 100 101 102 105 17.947021484375\n",
            "96 97 98 99 100 101 102 103 106 75.849853515625\n",
            "97 98 99 100 101 102 103 104 107 153.276123046875\n",
            "98 99 100 101 102 103 104 105 108 250.2197265625\n",
            "99 100 101 102 103 104 105 106 109 107.6845703125\n",
            "100 101 102 103 104 105 106 107 110 243.6669921875\n"
          ]
        }
      ]
    },
    {
      "cell_type": "code",
      "source": [
        "print(ee)"
      ],
      "metadata": {
        "colab": {
          "base_uri": "https://localhost:8080/"
        },
        "id": "HaRDqAmeY_Sn",
        "outputId": "9a38a192-2fba-4f5d-a024-b2aa8af8c870"
      },
      "execution_count": 11,
      "outputs": [
        {
          "output_type": "stream",
          "name": "stdout",
          "text": [
            "[182.79569911956787, 238.33970260620117, 54.40369987487793, 148.98769760131836, 4.091697692871094, 137.71569442749023, 31.859710693359375, 204.5237045288086, 137.70769500732422, 90.41165161132812, 62.63569641113281, 54.379737854003906, 65.64371490478516, 96.42771911621094, 146.73162841796875, 216.55569458007812, 46.899658203125, 155.76373291015625, 25.147705078125, 173.05165100097656, 81.47561645507812, 9.419677734375, 215.88369750976562, 182.86767578125, 169.3717041015625, 175.39569091796875, 200.93975830078125, 246.00390625, 51.58758544921875, 135.69174194335938, 239.315673828125, 103.45989990234375, 246.12353515625, 149.3077392578125, 72.01190185546875, 14.23565673828125, 234.9796142578125, 216.24407958984375, 217.02777099609375, 237.33160400390625, 18.15576171875, 77.4996337890625, 156.36376953125, 254.748046875, 113.65179443359375, 251.0755615234375, 149.0196533203125, 66.4840087890625, 3.4676513671875, 218.9716796875, 194.9959716796875, 190.5396728515625, 205.603759765625, 240.1878662109375, 35.292236328125, 108.91552734375, 202.060302734375, 55.7237548828125, 187.9080810546875, 80.6114501953125, 251.8359375, 183.579833984375, 134.8436279296875, 105.6278076171875, 95.93115234375, 105.7552490234375, 135.0994873046875, 183.9638671875, 252.347412109375, 81.252197265625, 188.67578125, 56.61962890625, 203.084228515625, 110.067626953125, 36.572265625, 241.5947265625, 207.1396484375, 192.203125, 196.787109375, 220.8916015625, 5.515869140625, 68.65966796875, 151.32275390625, 253.50732421875, 116.212158203125, 257.434814453125, 159.1787109375, 80.444580078125, 21.226806640625, 240.532958984375, 220.355712890625, 219.698974609375, 238.56298828125, 17.947021484375, 75.849853515625, 153.276123046875, 250.2197265625, 107.6845703125, 243.6669921875]\n"
          ]
        }
      ]
    },
    {
      "cell_type": "code",
      "source": [
        "a=np.array(ee).min()\n",
        "print(a)\n",
        "c=np.where(ee==a)\n",
        "\n",
        "ee1=np.arange(0,99)\n",
        "print(ee1)"
      ],
      "metadata": {
        "colab": {
          "base_uri": "https://localhost:8080/"
        },
        "id": "WsMvYJeuZKlo",
        "outputId": "43bf2412-a08b-4d33-c70d-dc1c676bce83"
      },
      "execution_count": 12,
      "outputs": [
        {
          "output_type": "stream",
          "name": "stdout",
          "text": [
            "3.4676513671875\n",
            "[ 0  1  2  3  4  5  6  7  8  9 10 11 12 13 14 15 16 17 18 19 20 21 22 23\n",
            " 24 25 26 27 28 29 30 31 32 33 34 35 36 37 38 39 40 41 42 43 44 45 46 47\n",
            " 48 49 50 51 52 53 54 55 56 57 58 59 60 61 62 63 64 65 66 67 68 69 70 71\n",
            " 72 73 74 75 76 77 78 79 80 81 82 83 84 85 86 87 88 89 90 91 92 93 94 95\n",
            " 96 97 98]\n"
          ]
        }
      ]
    },
    {
      "cell_type": "code",
      "source": [
        "from matplotlib import pyplot as pp\n",
        "pp.plot(ee1,ee)"
      ],
      "metadata": {
        "colab": {
          "base_uri": "https://localhost:8080/",
          "height": 283
        },
        "id": "cwKESLdmZTIU",
        "outputId": "3aa89eaa-6259-48f9-e344-911585dfb058"
      },
      "execution_count": 14,
      "outputs": [
        {
          "output_type": "execute_result",
          "data": {
            "text/plain": [
              "[<matplotlib.lines.Line2D at 0x7f8444e90050>]"
            ]
          },
          "metadata": {},
          "execution_count": 14
        },
        {
          "output_type": "display_data",
          "data": {
            "text/plain": [
              "<Figure size 432x288 with 1 Axes>"
            ],
            "image/png": "[encoded data removed]"
          },
          "metadata": {
            "needs_background": "light"
          }
        }
      ]
    },
    {
      "cell_type": "code",
      "source": [
        "from matplotlib import pyplot as pt\n",
        "pt.scatter(x1,y) "
      ],
      "metadata": {
        "colab": {
          "base_uri": "https://localhost:8080/",
          "height": 283
        },
        "id": "8TUnXeFzZiGy",
        "outputId": "c4acb5e7-4422-4401-ca70-95f66ea46542"
      },
      "execution_count": 15,
      "outputs": [
        {
          "output_type": "execute_result",
          "data": {
            "text/plain": [
              "<matplotlib.collections.PathCollection at 0x7f843c4be2d0>"
            ]
          },
          "metadata": {},
          "execution_count": 15
        },
        {
          "output_type": "display_data",
          "data": {
            "text/plain": [
              "<Figure size 432x288 with 1 Axes>"
            ],
            "image/png": "[encoded data removed]"
          },
          "metadata": {
            "needs_background": "light"
          }
        }
      ]
    },
    {
      "cell_type": "code",
      "source": [
        "pt.scatter(x2,y)"
      ],
      "metadata": {
        "colab": {
          "base_uri": "https://localhost:8080/",
          "height": 283
        },
        "id": "nWgkSVmgZrkp",
        "outputId": "10919135-b0ff-4e0b-c42f-56e486abd26e"
      },
      "execution_count": 16,
      "outputs": [
        {
          "output_type": "execute_result",
          "data": {
            "text/plain": [
              "<matplotlib.collections.PathCollection at 0x7f843c44e2d0>"
            ]
          },
          "metadata": {},
          "execution_count": 16
        },
        {
          "output_type": "display_data",
          "data": {
            "text/plain": [
              "<Figure size 432x288 with 1 Axes>"
            ],
            "image/png": "[encoded data removed]"
          },
          "metadata": {
            "needs_background": "light"
          }
        }
      ]
    },
    {
      "cell_type": "code",
      "source": [
        "pt.scatter(x3,y)"
      ],
      "metadata": {
        "colab": {
          "base_uri": "https://localhost:8080/",
          "height": 283
        },
        "id": "jV0-hrQZZ4UL",
        "outputId": "49a589af-81ce-4fb3-ce4e-f5af8f49f9cd"
      },
      "execution_count": 17,
      "outputs": [
        {
          "output_type": "execute_result",
          "data": {
            "text/plain": [
              "<matplotlib.collections.PathCollection at 0x7f843c3be390>"
            ]
          },
          "metadata": {},
          "execution_count": 17
        },
        {
          "output_type": "display_data",
          "data": {
            "text/plain": [
              "<Figure size 432x288 with 1 Axes>"
            ],
            "image/png": "[encoded data removed]"
          },
          "metadata": {
            "needs_background": "light"
          }
        }
      ]
    },
    {
      "cell_type": "code",
      "source": [
        "pt.scatter(x4,y)"
      ],
      "metadata": {
        "colab": {
          "base_uri": "https://localhost:8080/",
          "height": 283
        },
        "id": "H1AhXSDKaE7k",
        "outputId": "5e3cf06d-61bc-4ca1-a4e8-5e7e150d2f0b"
      },
      "execution_count": 18,
      "outputs": [
        {
          "output_type": "execute_result",
          "data": {
            "text/plain": [
              "<matplotlib.collections.PathCollection at 0x7f843c330f10>"
            ]
          },
          "metadata": {},
          "execution_count": 18
        },
        {
          "output_type": "display_data",
          "data": {
            "text/plain": [
              "<Figure size 432x288 with 1 Axes>"
            ],
            "image/png": "[encoded data removed]"
          },
          "metadata": {
            "needs_background": "light"
          }
        }
      ]
    },
    {
      "cell_type": "code",
      "source": [
        "pt.scatter(x5,y)"
      ],
      "metadata": {
        "colab": {
          "base_uri": "https://localhost:8080/",
          "height": 283
        },
        "id": "zmzdhLucaIVd",
        "outputId": "ff9dcccd-c5b3-4b2f-b938-b37d1bc9e2fd"
      },
      "execution_count": 19,
      "outputs": [
        {
          "output_type": "execute_result",
          "data": {
            "text/plain": [
              "<matplotlib.collections.PathCollection at 0x7f843c29bd10>"
            ]
          },
          "metadata": {},
          "execution_count": 19
        },
        {
          "output_type": "display_data",
          "data": {
            "text/plain": [
              "<Figure size 432x288 with 1 Axes>"
            ],
            "image/png": "[encoded data removed]"
          },
          "metadata": {
            "needs_background": "light"
          }
        }
      ]
    },
    {
      "cell_type": "code",
      "source": [
        "pt.scatter(x6,y)"
      ],
      "metadata": {
        "colab": {
          "base_uri": "https://localhost:8080/",
          "height": 283
        },
        "id": "w3WViLcxaLJa",
        "outputId": "8bfaeccc-4238-4197-ac08-22cdaf543212"
      },
      "execution_count": 20,
      "outputs": [
        {
          "output_type": "execute_result",
          "data": {
            "text/plain": [
              "<matplotlib.collections.PathCollection at 0x7f843c283c50>"
            ]
          },
          "metadata": {},
          "execution_count": 20
        },
        {
          "output_type": "display_data",
          "data": {
            "text/plain": [
              "<Figure size 432x288 with 1 Axes>"
            ],
            "image/png": "[encoded data removed]"
          },
          "metadata": {
            "needs_background": "light"
          }
        }
      ]
    },
    {
      "cell_type": "code",
      "source": [
        "pt.scatter(x7,y)"
      ],
      "metadata": {
        "colab": {
          "base_uri": "https://localhost:8080/",
          "height": 283
        },
        "id": "WsShjq7uaOZN",
        "outputId": "1f53b21d-ca32-4cd4-b423-ed68fd9ea736"
      },
      "execution_count": 21,
      "outputs": [
        {
          "output_type": "execute_result",
          "data": {
            "text/plain": [
              "<matplotlib.collections.PathCollection at 0x7f843c1fc1d0>"
            ]
          },
          "metadata": {},
          "execution_count": 21
        },
        {
          "output_type": "display_data",
          "data": {
            "text/plain": [
              "<Figure size 432x288 with 1 Axes>"
            ],
            "image/png": "[encoded data removed]"
          },
          "metadata": {
            "needs_background": "light"
          }
        }
      ]
    },
    {
      "cell_type": "code",
      "source": [
        "pt.scatter(x8,y)"
      ],
      "metadata": {
        "colab": {
          "base_uri": "https://localhost:8080/",
          "height": 283
        },
        "id": "Lx0R3VpdaRUu",
        "outputId": "510f8149-6306-4835-d37d-43f7157cc56a"
      },
      "execution_count": 22,
      "outputs": [
        {
          "output_type": "execute_result",
          "data": {
            "text/plain": [
              "<matplotlib.collections.PathCollection at 0x7f843c476850>"
            ]
          },
          "metadata": {},
          "execution_count": 22
        },
        {
          "output_type": "display_data",
          "data": {
            "text/plain": [
              "<Figure size 432x288 with 1 Axes>"
            ],
            "image/png": "[encoded data removed]"
          },
          "metadata": {
            "needs_background": "light"
          }
        }
      ]
    },
    {
      "cell_type": "code",
      "source": [
        "pt.scatter(x9,y)"
      ],
      "metadata": {
        "colab": {
          "base_uri": "https://localhost:8080/",
          "height": 283
        },
        "id": "TkYdLG1eaT7I",
        "outputId": "e888efc4-0f2c-4b15-ff08-463acc18bcd6"
      },
      "execution_count": 23,
      "outputs": [
        {
          "output_type": "execute_result",
          "data": {
            "text/plain": [
              "<matplotlib.collections.PathCollection at 0x7f843c2b4410>"
            ]
          },
          "metadata": {},
          "execution_count": 23
        },
        {
          "output_type": "display_data",
          "data": {
            "text/plain": [
              "<Figure size 432x288 with 1 Axes>"
            ],
            "image/png": "[encoded data removed]"
          },
          "metadata": {
            "needs_background": "light"
          }
        }
      ]
    },
    {
      "cell_type": "code",
      "source": [
        "pt.scatter(x10,y)"
      ],
      "metadata": {
        "colab": {
          "base_uri": "https://localhost:8080/",
          "height": 283
        },
        "id": "6TJrh5hvaW1e",
        "outputId": "a6ff4cd1-9716-47ae-b9cf-78b48b7ff7b5"
      },
      "execution_count": 24,
      "outputs": [
        {
          "output_type": "execute_result",
          "data": {
            "text/plain": [
              "<matplotlib.collections.PathCollection at 0x7f843c102710>"
            ]
          },
          "metadata": {},
          "execution_count": 24
        },
        {
          "output_type": "display_data",
          "data": {
            "text/plain": [
              "<Figure size 432x288 with 1 Axes>"
            ],
            "image/png": "[encoded data removed]"
          },
          "metadata": {
            "needs_background": "light"
          }
        }
      ]
    }
  ]
}